{
 "cells": [
  {
   "cell_type": "markdown",
   "metadata": {},
   "source": [
    "# Talk to construction PDF page with `gpt-4o`\n",
    "\n",
    "### Instructions\n",
    "\n",
    "- Azure OpenAI env variables\n",
    "- brew install poppler\n",
    "\n",
    "NOTE: uses same data as extract_pdf_data_llm"
   ]
  },
  {
   "cell_type": "code",
   "execution_count": 1,
   "metadata": {},
   "outputs": [],
   "source": [
    "import os\n",
    "from rich import print\n",
    "\n",
    "\n",
    "def read_image_as_base64(image_path: str) -> str:\n",
    "    import base64\n",
    "\n",
    "    with open(image_path, \"rb\") as image_file:\n",
    "        image_data = base64.b64encode(image_file.read()).decode(\"utf-8\")\n",
    "\n",
    "    return image_data"
   ]
  },
  {
   "cell_type": "code",
   "execution_count": 2,
   "metadata": {},
   "outputs": [],
   "source": [
    "from langchain_openai.chat_models import AzureChatOpenAI\n",
    "from langchain_core.prompts import ChatPromptTemplate\n",
    "from langchain_core.messages import HumanMessage\n",
    "\n",
    "\n",
    "llm = AzureChatOpenAI(\n",
    "    azure_deployment=os.getenv(\"AZURE_DEPLOYMENT\"),\n",
    ")"
   ]
  },
  {
   "cell_type": "code",
   "execution_count": 3,
   "metadata": {},
   "outputs": [],
   "source": [
    "def talk_to_image(page_content_base64: str, question: str):\n",
    "    prompt = ChatPromptTemplate.from_messages(\n",
    "    [\n",
    "        HumanMessage(\n",
    "            content=[\n",
    "                {\"type\": \"text\", \"text\": question},\n",
    "                {\n",
    "                    \"type\": \"image_url\",\n",
    "                    \"image_url\": {\"url\": f\"data:image/jpeg;base64,{page_content_base64}\"},\n",
    "                },\n",
    "            ],\n",
    "        ),\n",
    "    ]\n",
    ")\n",
    "    \n",
    "    chain = prompt | llm\n",
    "\n",
    "    return chain.invoke({})\n"
   ]
  },
  {
   "cell_type": "markdown",
   "metadata": {},
   "source": [
    "![Page 4](./var/extract_pdf_data_llm/out4.jpg)"
   ]
  },
  {
   "cell_type": "code",
   "execution_count": 4,
   "metadata": {},
   "outputs": [],
   "source": [
    "def talk_to_page_4(question: str):\n",
    "    page_base64 = read_image_as_base64(\"./var/extract_pdf_data_llm/out4.jpg\")\n",
    "\n",
    "    print(talk_to_image(page_base64, question).content)"
   ]
  },
  {
   "cell_type": "code",
   "execution_count": 6,
   "metadata": {},
   "outputs": [
    {
     "data": {
      "text/html": [
       "<pre style=\"white-space:pre;overflow-x:auto;line-height:normal;font-family:Menlo,'DejaVu Sans Mono',consolas,'Courier New',monospace\">The floor plan shows a total of <span style=\"color: #008080; text-decoration-color: #008080; font-weight: bold\">3</span> bedrooms, labeled as Bed <span style=\"color: #008080; text-decoration-color: #008080; font-weight: bold\">1</span>, Bed <span style=\"color: #008080; text-decoration-color: #008080; font-weight: bold\">2</span>, and Bed <span style=\"color: #008080; text-decoration-color: #008080; font-weight: bold\">3</span>.\n",
       "</pre>\n"
      ],
      "text/plain": [
       "The floor plan shows a total of \u001b[1;36m3\u001b[0m bedrooms, labeled as Bed \u001b[1;36m1\u001b[0m, Bed \u001b[1;36m2\u001b[0m, and Bed \u001b[1;36m3\u001b[0m.\n"
      ]
     },
     "metadata": {},
     "output_type": "display_data"
    }
   ],
   "source": [
    "talk_to_page_4(\"How many bedrooms?\")"
   ]
  },
  {
   "cell_type": "code",
   "execution_count": 8,
   "metadata": {},
   "outputs": [
    {
     "data": {
      "text/html": [
       "<pre style=\"white-space:pre;overflow-x:auto;line-height:normal;font-family:Menlo,'DejaVu Sans Mono',consolas,'Courier New',monospace\">To calculate the perimeter of the building, we need to add up the lengths of all the outer walls. The given \n",
       "dimensions are in millimeters. Let's identify and sum up these dimensions:\n",
       "\n",
       "<span style=\"color: #008080; text-decoration-color: #008080; font-weight: bold\">1</span>. Horizontal dimensions at the top:\n",
       "   - <span style=\"color: #008080; text-decoration-color: #008080; font-weight: bold\">450</span> + <span style=\"color: #008080; text-decoration-color: #008080; font-weight: bold\">2</span>,<span style=\"color: #008080; text-decoration-color: #008080; font-weight: bold\">150</span> + <span style=\"color: #008080; text-decoration-color: #008080; font-weight: bold\">70</span> + <span style=\"color: #008080; text-decoration-color: #008080; font-weight: bold\">1</span>,<span style=\"color: #008080; text-decoration-color: #008080; font-weight: bold\">500</span> + <span style=\"color: #008080; text-decoration-color: #008080; font-weight: bold\">1</span>,<span style=\"color: #008080; text-decoration-color: #008080; font-weight: bold\">270</span> + <span style=\"color: #008080; text-decoration-color: #008080; font-weight: bold\">4</span>,<span style=\"color: #008080; text-decoration-color: #008080; font-weight: bold\">100</span> + <span style=\"color: #008080; text-decoration-color: #008080; font-weight: bold\">70</span> + <span style=\"color: #008080; text-decoration-color: #008080; font-weight: bold\">2</span>,<span style=\"color: #008080; text-decoration-color: #008080; font-weight: bold\">215</span> + <span style=\"color: #008080; text-decoration-color: #008080; font-weight: bold\">450</span> = <span style=\"color: #008080; text-decoration-color: #008080; font-weight: bold\">12</span>,<span style=\"color: #008080; text-decoration-color: #008080; font-weight: bold\">275</span> mm\n",
       "\n",
       "<span style=\"color: #008080; text-decoration-color: #008080; font-weight: bold\">2</span>. Right vertical dimensions:\n",
       "   - <span style=\"color: #008080; text-decoration-color: #008080; font-weight: bold\">450</span> + <span style=\"color: #008080; text-decoration-color: #008080; font-weight: bold\">7</span>,<span style=\"color: #008080; text-decoration-color: #008080; font-weight: bold\">300</span> + <span style=\"color: #008080; text-decoration-color: #008080; font-weight: bold\">450</span> = <span style=\"color: #008080; text-decoration-color: #008080; font-weight: bold\">8</span>,<span style=\"color: #008080; text-decoration-color: #008080; font-weight: bold\">200</span> mm\n",
       "\n",
       "<span style=\"color: #008080; text-decoration-color: #008080; font-weight: bold\">3</span>. Bottom horizontal dimensions:\n",
       "   - <span style=\"color: #008080; text-decoration-color: #008080; font-weight: bold\">450</span> + <span style=\"color: #008080; text-decoration-color: #008080; font-weight: bold\">3</span>,<span style=\"color: #008080; text-decoration-color: #008080; font-weight: bold\">200</span> + <span style=\"color: #008080; text-decoration-color: #008080; font-weight: bold\">70</span> + <span style=\"color: #008080; text-decoration-color: #008080; font-weight: bold\">1</span>,<span style=\"color: #008080; text-decoration-color: #008080; font-weight: bold\">100</span> + <span style=\"color: #008080; text-decoration-color: #008080; font-weight: bold\">70</span> + <span style=\"color: #008080; text-decoration-color: #008080; font-weight: bold\">4</span>,<span style=\"color: #008080; text-decoration-color: #008080; font-weight: bold\">785</span> + <span style=\"color: #008080; text-decoration-color: #008080; font-weight: bold\">70</span> + <span style=\"color: #008080; text-decoration-color: #008080; font-weight: bold\">2</span>,<span style=\"color: #008080; text-decoration-color: #008080; font-weight: bold\">700</span> + <span style=\"color: #008080; text-decoration-color: #008080; font-weight: bold\">70</span> + <span style=\"color: #008080; text-decoration-color: #008080; font-weight: bold\">4</span>,<span style=\"color: #008080; text-decoration-color: #008080; font-weight: bold\">220</span> + <span style=\"color: #008080; text-decoration-color: #008080; font-weight: bold\">450</span> = <span style=\"color: #008080; text-decoration-color: #008080; font-weight: bold\">17</span>,<span style=\"color: #008080; text-decoration-color: #008080; font-weight: bold\">685</span> mm\n",
       "\n",
       "<span style=\"color: #008080; text-decoration-color: #008080; font-weight: bold\">4</span>. Left vertical dimensions:\n",
       "   - <span style=\"color: #008080; text-decoration-color: #008080; font-weight: bold\">70</span> + <span style=\"color: #008080; text-decoration-color: #008080; font-weight: bold\">400</span> + <span style=\"color: #008080; text-decoration-color: #008080; font-weight: bold\">3</span>,<span style=\"color: #008080; text-decoration-color: #008080; font-weight: bold\">420</span> + <span style=\"color: #008080; text-decoration-color: #008080; font-weight: bold\">400</span> + <span style=\"color: #008080; text-decoration-color: #008080; font-weight: bold\">70</span> + <span style=\"color: #008080; text-decoration-color: #008080; font-weight: bold\">2</span>,<span style=\"color: #008080; text-decoration-color: #008080; font-weight: bold\">320</span> + <span style=\"color: #008080; text-decoration-color: #008080; font-weight: bold\">70</span> = <span style=\"color: #008080; text-decoration-color: #008080; font-weight: bold\">6</span>,<span style=\"color: #008080; text-decoration-color: #008080; font-weight: bold\">750</span> mm\n",
       "\n",
       "The total perimeter is the sum of these dimensions:\n",
       "- Top: <span style=\"color: #008080; text-decoration-color: #008080; font-weight: bold\">12</span>,<span style=\"color: #008080; text-decoration-color: #008080; font-weight: bold\">275</span> mm\n",
       "- Right: <span style=\"color: #008080; text-decoration-color: #008080; font-weight: bold\">8</span>,<span style=\"color: #008080; text-decoration-color: #008080; font-weight: bold\">200</span> mm\n",
       "- Bottom: <span style=\"color: #008080; text-decoration-color: #008080; font-weight: bold\">17</span>,<span style=\"color: #008080; text-decoration-color: #008080; font-weight: bold\">685</span> mm\n",
       "- Left: <span style=\"color: #008080; text-decoration-color: #008080; font-weight: bold\">6</span>,<span style=\"color: #008080; text-decoration-color: #008080; font-weight: bold\">750</span> mm\n",
       "\n",
       "Perimeter = <span style=\"color: #008080; text-decoration-color: #008080; font-weight: bold\">12</span>,<span style=\"color: #008080; text-decoration-color: #008080; font-weight: bold\">275</span> + <span style=\"color: #008080; text-decoration-color: #008080; font-weight: bold\">8</span>,<span style=\"color: #008080; text-decoration-color: #008080; font-weight: bold\">200</span> + <span style=\"color: #008080; text-decoration-color: #008080; font-weight: bold\">17</span>,<span style=\"color: #008080; text-decoration-color: #008080; font-weight: bold\">685</span> + <span style=\"color: #008080; text-decoration-color: #008080; font-weight: bold\">6</span>,<span style=\"color: #008080; text-decoration-color: #008080; font-weight: bold\">750</span> = <span style=\"color: #008080; text-decoration-color: #008080; font-weight: bold\">44</span>,<span style=\"color: #008080; text-decoration-color: #008080; font-weight: bold\">910</span> mm\n",
       "\n",
       "To convert millimeters to meters:\n",
       "<span style=\"color: #008080; text-decoration-color: #008080; font-weight: bold\">44</span>,<span style=\"color: #008080; text-decoration-color: #008080; font-weight: bold\">910</span> mm <span style=\"color: #800080; text-decoration-color: #800080\">/</span> <span style=\"color: #008080; text-decoration-color: #008080; font-weight: bold\">1</span>,<span style=\"color: #008080; text-decoration-color: #008080; font-weight: bold\">000</span> = <span style=\"color: #008080; text-decoration-color: #008080; font-weight: bold\">44.91</span> meters\n",
       "\n",
       "Therefore, the perimeter of the building is <span style=\"color: #008080; text-decoration-color: #008080; font-weight: bold\">44.91</span> meters.\n",
       "</pre>\n"
      ],
      "text/plain": [
       "To calculate the perimeter of the building, we need to add up the lengths of all the outer walls. The given \n",
       "dimensions are in millimeters. Let's identify and sum up these dimensions:\n",
       "\n",
       "\u001b[1;36m1\u001b[0m. Horizontal dimensions at the top:\n",
       "   - \u001b[1;36m450\u001b[0m + \u001b[1;36m2\u001b[0m,\u001b[1;36m150\u001b[0m + \u001b[1;36m70\u001b[0m + \u001b[1;36m1\u001b[0m,\u001b[1;36m500\u001b[0m + \u001b[1;36m1\u001b[0m,\u001b[1;36m270\u001b[0m + \u001b[1;36m4\u001b[0m,\u001b[1;36m100\u001b[0m + \u001b[1;36m70\u001b[0m + \u001b[1;36m2\u001b[0m,\u001b[1;36m215\u001b[0m + \u001b[1;36m450\u001b[0m = \u001b[1;36m12\u001b[0m,\u001b[1;36m275\u001b[0m mm\n",
       "\n",
       "\u001b[1;36m2\u001b[0m. Right vertical dimensions:\n",
       "   - \u001b[1;36m450\u001b[0m + \u001b[1;36m7\u001b[0m,\u001b[1;36m300\u001b[0m + \u001b[1;36m450\u001b[0m = \u001b[1;36m8\u001b[0m,\u001b[1;36m200\u001b[0m mm\n",
       "\n",
       "\u001b[1;36m3\u001b[0m. Bottom horizontal dimensions:\n",
       "   - \u001b[1;36m450\u001b[0m + \u001b[1;36m3\u001b[0m,\u001b[1;36m200\u001b[0m + \u001b[1;36m70\u001b[0m + \u001b[1;36m1\u001b[0m,\u001b[1;36m100\u001b[0m + \u001b[1;36m70\u001b[0m + \u001b[1;36m4\u001b[0m,\u001b[1;36m785\u001b[0m + \u001b[1;36m70\u001b[0m + \u001b[1;36m2\u001b[0m,\u001b[1;36m700\u001b[0m + \u001b[1;36m70\u001b[0m + \u001b[1;36m4\u001b[0m,\u001b[1;36m220\u001b[0m + \u001b[1;36m450\u001b[0m = \u001b[1;36m17\u001b[0m,\u001b[1;36m685\u001b[0m mm\n",
       "\n",
       "\u001b[1;36m4\u001b[0m. Left vertical dimensions:\n",
       "   - \u001b[1;36m70\u001b[0m + \u001b[1;36m400\u001b[0m + \u001b[1;36m3\u001b[0m,\u001b[1;36m420\u001b[0m + \u001b[1;36m400\u001b[0m + \u001b[1;36m70\u001b[0m + \u001b[1;36m2\u001b[0m,\u001b[1;36m320\u001b[0m + \u001b[1;36m70\u001b[0m = \u001b[1;36m6\u001b[0m,\u001b[1;36m750\u001b[0m mm\n",
       "\n",
       "The total perimeter is the sum of these dimensions:\n",
       "- Top: \u001b[1;36m12\u001b[0m,\u001b[1;36m275\u001b[0m mm\n",
       "- Right: \u001b[1;36m8\u001b[0m,\u001b[1;36m200\u001b[0m mm\n",
       "- Bottom: \u001b[1;36m17\u001b[0m,\u001b[1;36m685\u001b[0m mm\n",
       "- Left: \u001b[1;36m6\u001b[0m,\u001b[1;36m750\u001b[0m mm\n",
       "\n",
       "Perimeter = \u001b[1;36m12\u001b[0m,\u001b[1;36m275\u001b[0m + \u001b[1;36m8\u001b[0m,\u001b[1;36m200\u001b[0m + \u001b[1;36m17\u001b[0m,\u001b[1;36m685\u001b[0m + \u001b[1;36m6\u001b[0m,\u001b[1;36m750\u001b[0m = \u001b[1;36m44\u001b[0m,\u001b[1;36m910\u001b[0m mm\n",
       "\n",
       "To convert millimeters to meters:\n",
       "\u001b[1;36m44\u001b[0m,\u001b[1;36m910\u001b[0m mm \u001b[35m/\u001b[0m \u001b[1;36m1\u001b[0m,\u001b[1;36m000\u001b[0m = \u001b[1;36m44.91\u001b[0m meters\n",
       "\n",
       "Therefore, the perimeter of the building is \u001b[1;36m44.91\u001b[0m meters.\n"
      ]
     },
     "metadata": {},
     "output_type": "display_data"
    }
   ],
   "source": [
    "talk_to_page_4(\"What is the perimeter of the building?\")"
   ]
  },
  {
   "cell_type": "code",
   "execution_count": 14,
   "metadata": {},
   "outputs": [
    {
     "data": {
      "text/html": [
       "<pre style=\"white-space:pre;overflow-x:auto;line-height:normal;font-family:Menlo,'DejaVu Sans Mono',consolas,'Courier New',monospace\">The dimensions of the image are <span style=\"color: #008080; text-decoration-color: #008080; font-weight: bold\">1920</span> pixels in width and <span style=\"color: #008080; text-decoration-color: #008080; font-weight: bold\">1080</span> pixels in height.\n",
       "\n",
       "The position <span style=\"font-weight: bold\">(</span>x, y in pixels<span style=\"font-weight: bold\">)</span> for Bedroom <span style=\"color: #008080; text-decoration-color: #008080; font-weight: bold\">1</span> <span style=\"font-weight: bold\">(</span>Bed <span style=\"color: #008080; text-decoration-color: #008080; font-weight: bold\">1</span><span style=\"font-weight: bold\">)</span> is approximately <span style=\"font-weight: bold\">(</span><span style=\"color: #008080; text-decoration-color: #008080; font-weight: bold\">350</span>, <span style=\"color: #008080; text-decoration-color: #008080; font-weight: bold\">430</span><span style=\"font-weight: bold\">)</span>.\n",
       "</pre>\n"
      ],
      "text/plain": [
       "The dimensions of the image are \u001b[1;36m1920\u001b[0m pixels in width and \u001b[1;36m1080\u001b[0m pixels in height.\n",
       "\n",
       "The position \u001b[1m(\u001b[0mx, y in pixels\u001b[1m)\u001b[0m for Bedroom \u001b[1;36m1\u001b[0m \u001b[1m(\u001b[0mBed \u001b[1;36m1\u001b[0m\u001b[1m)\u001b[0m is approximately \u001b[1m(\u001b[0m\u001b[1;36m350\u001b[0m, \u001b[1;36m430\u001b[0m\u001b[1m)\u001b[0m.\n"
      ]
     },
     "metadata": {},
     "output_type": "display_data"
    }
   ],
   "source": [
    "talk_to_page_4(\"What are the dimensions of the image? What is the position (x, y in pixels) for Bedroom 1?\")"
   ]
  },
  {
   "cell_type": "code",
   "execution_count": 16,
   "metadata": {},
   "outputs": [
    {
     "data": {
      "text/html": [
       "<pre style=\"white-space:pre;overflow-x:auto;line-height:normal;font-family:Menlo,'DejaVu Sans Mono',consolas,'Courier New',monospace\">```json\n",
       "<span style=\"font-weight: bold\">{</span>\n",
       "  <span style=\"color: #008000; text-decoration-color: #008000\">\"notes\"</span>: <span style=\"font-weight: bold\">[</span>\n",
       "    <span style=\"color: #008000; text-decoration-color: #008000\">\"Lift off hinges to wc door\"</span>,\n",
       "    <span style=\"color: #008000; text-decoration-color: #008000\">\"Provide grab rails where shown\"</span>,\n",
       "    <span style=\"color: #008000; text-decoration-color: #008000\">\"Contact floor waste position to be confirmed\"</span>,\n",
       "    <span style=\"color: #008000; text-decoration-color: #008000\">\"Mechanical vents to provide natural ventilation\"</span>,\n",
       "    <span style=\"color: #008000; text-decoration-color: #008000\">\"Reinforced concrete slab with AHD\"</span>,\n",
       "    <span style=\"color: #008000; text-decoration-color: #008000\">\"MP4 pressures to timber &amp; 3000mm inset slab\"</span>,\n",
       "    <span style=\"color: #008000; text-decoration-color: #008000\">\"All glazed panels to 3000mm above floor\"</span>,\n",
       "    <span style=\"color: #008000; text-decoration-color: #008000\">\"Provide a step down to outdoor area as per builders location\"</span>,\n",
       "    <span style=\"color: #008000; text-decoration-color: #008000\">\"Roughing of stud positions for linings indicated on basement\"</span>,\n",
       "    <span style=\"color: #008000; text-decoration-color: #008000\">\"Utility to be laid on fiber cement\"</span>,\n",
       "    <span style=\"color: #008000; text-decoration-color: #008000\">\"Hold coat of finish to fiber cement @ 1500mm (3000mm on higher level)\"</span>,\n",
       "    <span style=\"color: #008000; text-decoration-color: #008000\">\"Where ventilation is shown on the plan\"</span>,\n",
       "    <span style=\"color: #008000; text-decoration-color: #008000\">\"Ceiling connection to be reduced to 800mm height or as per greater to be restricted to 1.2m\"</span>,\n",
       "    <span style=\"color: #008000; text-decoration-color: #008000\">\"150mm opening sliding windows with keyed lever locks, awning shall have restrictors\"</span>\n",
       "  <span style=\"font-weight: bold\">]</span>,\n",
       "  <span style=\"color: #008000; text-decoration-color: #008000\">\"rooms\"</span>: <span style=\"font-weight: bold\">[</span>\n",
       "    <span style=\"font-weight: bold\">{</span>\n",
       "      <span style=\"color: #008000; text-decoration-color: #008000\">\"name\"</span>: <span style=\"color: #008000; text-decoration-color: #008000\">\"Bed 1\"</span>,\n",
       "      <span style=\"color: #008000; text-decoration-color: #008000\">\"type\"</span>: <span style=\"color: #008000; text-decoration-color: #008000\">\"carpet\"</span>,\n",
       "      <span style=\"color: #008000; text-decoration-color: #008000\">\"dimensions\"</span>: <span style=\"color: #008000; text-decoration-color: #008000\">\"2.870 x 3.540\"</span>\n",
       "    <span style=\"font-weight: bold\">}</span>,\n",
       "    <span style=\"font-weight: bold\">{</span>\n",
       "      <span style=\"color: #008000; text-decoration-color: #008000\">\"name\"</span>: <span style=\"color: #008000; text-decoration-color: #008000\">\"Ens\"</span>,\n",
       "      <span style=\"color: #008000; text-decoration-color: #008000\">\"type\"</span>: <span style=\"color: #008000; text-decoration-color: #008000\">\"unspecified\"</span>\n",
       "    <span style=\"font-weight: bold\">}</span>,\n",
       "    <span style=\"font-weight: bold\">{</span>\n",
       "      <span style=\"color: #008000; text-decoration-color: #008000\">\"name\"</span>: <span style=\"color: #008000; text-decoration-color: #008000\">\"WIR\"</span>,\n",
       "      <span style=\"color: #008000; text-decoration-color: #008000\">\"type\"</span>: <span style=\"color: #008000; text-decoration-color: #008000\">\"unspecified\"</span>\n",
       "    <span style=\"font-weight: bold\">}</span>,\n",
       "    <span style=\"font-weight: bold\">{</span>\n",
       "      <span style=\"color: #008000; text-decoration-color: #008000\">\"name\"</span>: <span style=\"color: #008000; text-decoration-color: #008000\">\"Kitchen\"</span>,\n",
       "      <span style=\"color: #008000; text-decoration-color: #008000\">\"type\"</span>: <span style=\"color: #008000; text-decoration-color: #008000\">\"unspecified\"</span>\n",
       "    <span style=\"font-weight: bold\">}</span>,\n",
       "    <span style=\"font-weight: bold\">{</span>\n",
       "      <span style=\"color: #008000; text-decoration-color: #008000\">\"name\"</span>: <span style=\"color: #008000; text-decoration-color: #008000\">\"Dining\"</span>,\n",
       "      <span style=\"color: #008000; text-decoration-color: #008000\">\"type\"</span>: <span style=\"color: #008000; text-decoration-color: #008000\">\"tiles\"</span>,\n",
       "      <span style=\"color: #008000; text-decoration-color: #008000\">\"dimensions\"</span>: <span style=\"color: #008000; text-decoration-color: #008000\">\"1.5\"</span>\n",
       "    <span style=\"font-weight: bold\">}</span>,\n",
       "    <span style=\"font-weight: bold\">{</span>\n",
       "      <span style=\"color: #008000; text-decoration-color: #008000\">\"name\"</span>: <span style=\"color: #008000; text-decoration-color: #008000\">\"Living\"</span>,\n",
       "      <span style=\"color: #008000; text-decoration-color: #008000\">\"type\"</span>: <span style=\"color: #008000; text-decoration-color: #008000\">\"tiles\"</span>,\n",
       "      <span style=\"color: #008000; text-decoration-color: #008000\">\"dimensions\"</span>: <span style=\"color: #008000; text-decoration-color: #008000\">\"5.2 x 4.0\"</span>\n",
       "    <span style=\"font-weight: bold\">}</span>,\n",
       "    <span style=\"font-weight: bold\">{</span>\n",
       "      <span style=\"color: #008000; text-decoration-color: #008000\">\"name\"</span>: <span style=\"color: #008000; text-decoration-color: #008000\">\"Bed 2\"</span>,\n",
       "      <span style=\"color: #008000; text-decoration-color: #008000\">\"type\"</span>: <span style=\"color: #008000; text-decoration-color: #008000\">\"carpet\"</span>,\n",
       "      <span style=\"color: #008000; text-decoration-color: #008000\">\"dimensions\"</span>: <span style=\"color: #008000; text-decoration-color: #008000\">\"3.0 x 2.7\"</span>\n",
       "    <span style=\"font-weight: bold\">}</span>,\n",
       "    <span style=\"font-weight: bold\">{</span>\n",
       "      <span style=\"color: #008000; text-decoration-color: #008000\">\"name\"</span>: <span style=\"color: #008000; text-decoration-color: #008000\">\"Bath\"</span>,\n",
       "      <span style=\"color: #008000; text-decoration-color: #008000\">\"type\"</span>: <span style=\"color: #008000; text-decoration-color: #008000\">\"unspecified\"</span>,\n",
       "      <span style=\"color: #008000; text-decoration-color: #008000\">\"dimensions\"</span>: <span style=\"color: #008000; text-decoration-color: #008000\">\"2.0 x 2.0\"</span>\n",
       "    <span style=\"font-weight: bold\">}</span>,\n",
       "    <span style=\"font-weight: bold\">{</span>\n",
       "      <span style=\"color: #008000; text-decoration-color: #008000\">\"name\"</span>: <span style=\"color: #008000; text-decoration-color: #008000\">\"Family\"</span>,\n",
       "      <span style=\"color: #008000; text-decoration-color: #008000\">\"type\"</span>: <span style=\"color: #008000; text-decoration-color: #008000\">\"tiles\"</span>,\n",
       "      <span style=\"color: #008000; text-decoration-color: #008000\">\"dimensions\"</span>: <span style=\"color: #008000; text-decoration-color: #008000\">\"3.2 x 3.4\"</span>\n",
       "    <span style=\"font-weight: bold\">}</span>,\n",
       "    <span style=\"font-weight: bold\">{</span>\n",
       "      <span style=\"color: #008000; text-decoration-color: #008000\">\"name\"</span>: <span style=\"color: #008000; text-decoration-color: #008000\">\"Bed 3\"</span>,\n",
       "      <span style=\"color: #008000; text-decoration-color: #008000\">\"type\"</span>: <span style=\"color: #008000; text-decoration-color: #008000\">\"carpet\"</span>,\n",
       "      <span style=\"color: #008000; text-decoration-color: #008000\">\"dimensions\"</span>: <span style=\"color: #008000; text-decoration-color: #008000\">\"3.2 x 2.7\"</span>\n",
       "    <span style=\"font-weight: bold\">}</span>,\n",
       "    <span style=\"font-weight: bold\">{</span>\n",
       "      <span style=\"color: #008000; text-decoration-color: #008000\">\"name\"</span>: <span style=\"color: #008000; text-decoration-color: #008000\">\"Alfresco\"</span>,\n",
       "      <span style=\"color: #008000; text-decoration-color: #008000\">\"type\"</span>: <span style=\"color: #008000; text-decoration-color: #008000\">\"timber decking\"</span>,\n",
       "      <span style=\"color: #008000; text-decoration-color: #008000\">\"dimensions\"</span>: <span style=\"color: #008000; text-decoration-color: #008000\">\"3.5 x 4.0\"</span>\n",
       "    <span style=\"font-weight: bold\">}</span>\n",
       "  <span style=\"font-weight: bold\">]</span>,\n",
       "  <span style=\"color: #008000; text-decoration-color: #008000\">\"contacts\"</span>: <span style=\"font-weight: bold\">{</span>\n",
       "    <span style=\"color: #008000; text-decoration-color: #008000\">\"phone\"</span>: <span style=\"color: #008000; text-decoration-color: #008000\">\"(07) 5562 6177\"</span>,\n",
       "    <span style=\"color: #008000; text-decoration-color: #008000\">\"mobile\"</span>: <span style=\"color: #008000; text-decoration-color: #008000\">\"0408 701 623\"</span>,\n",
       "    <span style=\"color: #008000; text-decoration-color: #008000\">\"website\"</span>: <span style=\"color: #008000; text-decoration-color: #008000\">\"www.thehousedesigners.com.au\"</span>,\n",
       "    <span style=\"color: #008000; text-decoration-color: #008000\">\"address\"</span>: <span style=\"color: #008000; text-decoration-color: #008000\">\"1/7 Strathaird Road Bundall QLD 4217\"</span>,\n",
       "    <span style=\"color: #008000; text-decoration-color: #008000\">\"postal_address\"</span>: <span style=\"color: #008000; text-decoration-color: #008000\">\"PO Box 2327 Nerang DC QLD 4210\"</span>,\n",
       "    <span style=\"color: #008000; text-decoration-color: #008000\">\"qbcc\"</span>: <span style=\"color: #008000; text-decoration-color: #008000\">\"124038\"</span>\n",
       "  <span style=\"font-weight: bold\">}</span>,\n",
       "  <span style=\"color: #008000; text-decoration-color: #008000\">\"area_calculations\"</span>: <span style=\"font-weight: bold\">{</span>\n",
       "    <span style=\"color: #008000; text-decoration-color: #008000\">\"living_lower\"</span>: <span style=\"color: #008000; text-decoration-color: #008000\">\"29.56 sqm\"</span>,\n",
       "    <span style=\"color: #008000; text-decoration-color: #008000\">\"living_upper\"</span>: <span style=\"color: #008000; text-decoration-color: #008000\">\"119.98 sqm\"</span>,\n",
       "    <span style=\"color: #008000; text-decoration-color: #008000\">\"garage\"</span>: <span style=\"color: #008000; text-decoration-color: #008000\">\"36.08 sqm\"</span>,\n",
       "    <span style=\"color: #008000; text-decoration-color: #008000\">\"porch\"</span>: <span style=\"color: #008000; text-decoration-color: #008000\">\"3.98 sqm\"</span>,\n",
       "    <span style=\"color: #008000; text-decoration-color: #008000\">\"alfresco\"</span>: <span style=\"color: #008000; text-decoration-color: #008000\">\"12.31 sqm\"</span>,\n",
       "    <span style=\"color: #008000; text-decoration-color: #008000\">\"total\"</span>: <span style=\"color: #008000; text-decoration-color: #008000\">\"201.91 sqm\"</span>\n",
       "  <span style=\"font-weight: bold\">}</span>,\n",
       "  <span style=\"color: #008000; text-decoration-color: #008000\">\"drawing_info\"</span>: <span style=\"font-weight: bold\">{</span>\n",
       "    <span style=\"color: #008000; text-decoration-color: #008000\">\"print_date\"</span>: <span style=\"color: #008000; text-decoration-color: #008000\">\"April 2015\"</span>,\n",
       "    <span style=\"color: #008000; text-decoration-color: #008000\">\"drawing_no\"</span>: <span style=\"color: #008000; text-decoration-color: #008000\">\"5 of 12\"</span>,\n",
       "    <span style=\"color: #008000; text-decoration-color: #008000\">\"design_name\"</span>: <span style=\"color: #008000; text-decoration-color: #008000\">\"Outrigger 201\"</span>,\n",
       "    <span style=\"color: #008000; text-decoration-color: #008000\">\"scale\"</span>: <span style=\"color: #008000; text-decoration-color: #008000\">\"1:100 (A3)\"</span>,\n",
       "    <span style=\"color: #008000; text-decoration-color: #008000\">\"drawn_by\"</span>: <span style=\"color: #008000; text-decoration-color: #008000\">\"NB\"</span>,\n",
       "    <span style=\"color: #008000; text-decoration-color: #008000\">\"checked_by\"</span>: <span style=\"color: #008000; text-decoration-color: #008000\">\"MB\"</span>\n",
       "  <span style=\"font-weight: bold\">}</span>,\n",
       "  <span style=\"color: #008000; text-decoration-color: #008000\">\"plan_info\"</span>: <span style=\"font-weight: bold\">{</span>\n",
       "    <span style=\"color: #008000; text-decoration-color: #008000\">\"title\"</span>: <span style=\"color: #008000; text-decoration-color: #008000\">\"Floor Plan - Upper\"</span>,\n",
       "    <span style=\"color: #008000; text-decoration-color: #008000\">\"project\"</span>: <span style=\"color: #008000; text-decoration-color: #008000\">\"Outrigger 201\"</span>,\n",
       "    <span style=\"color: #008000; text-decoration-color: #008000\">\"drawing_type\"</span>: <span style=\"color: #008000; text-decoration-color: #008000\">\"Working Drawings\"</span>\n",
       "  <span style=\"font-weight: bold\">}</span>\n",
       "<span style=\"font-weight: bold\">}</span>\n",
       "```\n",
       "</pre>\n"
      ],
      "text/plain": [
       "```json\n",
       "\u001b[1m{\u001b[0m\n",
       "  \u001b[32m\"notes\"\u001b[0m: \u001b[1m[\u001b[0m\n",
       "    \u001b[32m\"Lift off hinges to wc door\"\u001b[0m,\n",
       "    \u001b[32m\"Provide grab rails where shown\"\u001b[0m,\n",
       "    \u001b[32m\"Contact floor waste position to be confirmed\"\u001b[0m,\n",
       "    \u001b[32m\"Mechanical vents to provide natural ventilation\"\u001b[0m,\n",
       "    \u001b[32m\"Reinforced concrete slab with AHD\"\u001b[0m,\n",
       "    \u001b[32m\"MP4 pressures to timber & 3000mm inset slab\"\u001b[0m,\n",
       "    \u001b[32m\"All glazed panels to 3000mm above floor\"\u001b[0m,\n",
       "    \u001b[32m\"Provide a step down to outdoor area as per builders location\"\u001b[0m,\n",
       "    \u001b[32m\"Roughing of stud positions for linings indicated on basement\"\u001b[0m,\n",
       "    \u001b[32m\"Utility to be laid on fiber cement\"\u001b[0m,\n",
       "    \u001b[32m\"Hold coat of finish to fiber cement @ 1500mm \u001b[0m\u001b[32m(\u001b[0m\u001b[32m3000mm on higher level\u001b[0m\u001b[32m)\u001b[0m\u001b[32m\"\u001b[0m,\n",
       "    \u001b[32m\"Where ventilation is shown on the plan\"\u001b[0m,\n",
       "    \u001b[32m\"Ceiling connection to be reduced to 800mm height or as per greater to be restricted to 1.2m\"\u001b[0m,\n",
       "    \u001b[32m\"150mm opening sliding windows with keyed lever locks, awning shall have restrictors\"\u001b[0m\n",
       "  \u001b[1m]\u001b[0m,\n",
       "  \u001b[32m\"rooms\"\u001b[0m: \u001b[1m[\u001b[0m\n",
       "    \u001b[1m{\u001b[0m\n",
       "      \u001b[32m\"name\"\u001b[0m: \u001b[32m\"Bed 1\"\u001b[0m,\n",
       "      \u001b[32m\"type\"\u001b[0m: \u001b[32m\"carpet\"\u001b[0m,\n",
       "      \u001b[32m\"dimensions\"\u001b[0m: \u001b[32m\"2.870 x 3.540\"\u001b[0m\n",
       "    \u001b[1m}\u001b[0m,\n",
       "    \u001b[1m{\u001b[0m\n",
       "      \u001b[32m\"name\"\u001b[0m: \u001b[32m\"Ens\"\u001b[0m,\n",
       "      \u001b[32m\"type\"\u001b[0m: \u001b[32m\"unspecified\"\u001b[0m\n",
       "    \u001b[1m}\u001b[0m,\n",
       "    \u001b[1m{\u001b[0m\n",
       "      \u001b[32m\"name\"\u001b[0m: \u001b[32m\"WIR\"\u001b[0m,\n",
       "      \u001b[32m\"type\"\u001b[0m: \u001b[32m\"unspecified\"\u001b[0m\n",
       "    \u001b[1m}\u001b[0m,\n",
       "    \u001b[1m{\u001b[0m\n",
       "      \u001b[32m\"name\"\u001b[0m: \u001b[32m\"Kitchen\"\u001b[0m,\n",
       "      \u001b[32m\"type\"\u001b[0m: \u001b[32m\"unspecified\"\u001b[0m\n",
       "    \u001b[1m}\u001b[0m,\n",
       "    \u001b[1m{\u001b[0m\n",
       "      \u001b[32m\"name\"\u001b[0m: \u001b[32m\"Dining\"\u001b[0m,\n",
       "      \u001b[32m\"type\"\u001b[0m: \u001b[32m\"tiles\"\u001b[0m,\n",
       "      \u001b[32m\"dimensions\"\u001b[0m: \u001b[32m\"1.5\"\u001b[0m\n",
       "    \u001b[1m}\u001b[0m,\n",
       "    \u001b[1m{\u001b[0m\n",
       "      \u001b[32m\"name\"\u001b[0m: \u001b[32m\"Living\"\u001b[0m,\n",
       "      \u001b[32m\"type\"\u001b[0m: \u001b[32m\"tiles\"\u001b[0m,\n",
       "      \u001b[32m\"dimensions\"\u001b[0m: \u001b[32m\"5.2 x 4.0\"\u001b[0m\n",
       "    \u001b[1m}\u001b[0m,\n",
       "    \u001b[1m{\u001b[0m\n",
       "      \u001b[32m\"name\"\u001b[0m: \u001b[32m\"Bed 2\"\u001b[0m,\n",
       "      \u001b[32m\"type\"\u001b[0m: \u001b[32m\"carpet\"\u001b[0m,\n",
       "      \u001b[32m\"dimensions\"\u001b[0m: \u001b[32m\"3.0 x 2.7\"\u001b[0m\n",
       "    \u001b[1m}\u001b[0m,\n",
       "    \u001b[1m{\u001b[0m\n",
       "      \u001b[32m\"name\"\u001b[0m: \u001b[32m\"Bath\"\u001b[0m,\n",
       "      \u001b[32m\"type\"\u001b[0m: \u001b[32m\"unspecified\"\u001b[0m,\n",
       "      \u001b[32m\"dimensions\"\u001b[0m: \u001b[32m\"2.0 x 2.0\"\u001b[0m\n",
       "    \u001b[1m}\u001b[0m,\n",
       "    \u001b[1m{\u001b[0m\n",
       "      \u001b[32m\"name\"\u001b[0m: \u001b[32m\"Family\"\u001b[0m,\n",
       "      \u001b[32m\"type\"\u001b[0m: \u001b[32m\"tiles\"\u001b[0m,\n",
       "      \u001b[32m\"dimensions\"\u001b[0m: \u001b[32m\"3.2 x 3.4\"\u001b[0m\n",
       "    \u001b[1m}\u001b[0m,\n",
       "    \u001b[1m{\u001b[0m\n",
       "      \u001b[32m\"name\"\u001b[0m: \u001b[32m\"Bed 3\"\u001b[0m,\n",
       "      \u001b[32m\"type\"\u001b[0m: \u001b[32m\"carpet\"\u001b[0m,\n",
       "      \u001b[32m\"dimensions\"\u001b[0m: \u001b[32m\"3.2 x 2.7\"\u001b[0m\n",
       "    \u001b[1m}\u001b[0m,\n",
       "    \u001b[1m{\u001b[0m\n",
       "      \u001b[32m\"name\"\u001b[0m: \u001b[32m\"Alfresco\"\u001b[0m,\n",
       "      \u001b[32m\"type\"\u001b[0m: \u001b[32m\"timber decking\"\u001b[0m,\n",
       "      \u001b[32m\"dimensions\"\u001b[0m: \u001b[32m\"3.5 x 4.0\"\u001b[0m\n",
       "    \u001b[1m}\u001b[0m\n",
       "  \u001b[1m]\u001b[0m,\n",
       "  \u001b[32m\"contacts\"\u001b[0m: \u001b[1m{\u001b[0m\n",
       "    \u001b[32m\"phone\"\u001b[0m: \u001b[32m\"\u001b[0m\u001b[32m(\u001b[0m\u001b[32m07\u001b[0m\u001b[32m)\u001b[0m\u001b[32m 5562 6177\"\u001b[0m,\n",
       "    \u001b[32m\"mobile\"\u001b[0m: \u001b[32m\"0408 701 623\"\u001b[0m,\n",
       "    \u001b[32m\"website\"\u001b[0m: \u001b[32m\"www.thehousedesigners.com.au\"\u001b[0m,\n",
       "    \u001b[32m\"address\"\u001b[0m: \u001b[32m\"1/7 Strathaird Road Bundall QLD 4217\"\u001b[0m,\n",
       "    \u001b[32m\"postal_address\"\u001b[0m: \u001b[32m\"PO Box 2327 Nerang DC QLD 4210\"\u001b[0m,\n",
       "    \u001b[32m\"qbcc\"\u001b[0m: \u001b[32m\"124038\"\u001b[0m\n",
       "  \u001b[1m}\u001b[0m,\n",
       "  \u001b[32m\"area_calculations\"\u001b[0m: \u001b[1m{\u001b[0m\n",
       "    \u001b[32m\"living_lower\"\u001b[0m: \u001b[32m\"29.56 sqm\"\u001b[0m,\n",
       "    \u001b[32m\"living_upper\"\u001b[0m: \u001b[32m\"119.98 sqm\"\u001b[0m,\n",
       "    \u001b[32m\"garage\"\u001b[0m: \u001b[32m\"36.08 sqm\"\u001b[0m,\n",
       "    \u001b[32m\"porch\"\u001b[0m: \u001b[32m\"3.98 sqm\"\u001b[0m,\n",
       "    \u001b[32m\"alfresco\"\u001b[0m: \u001b[32m\"12.31 sqm\"\u001b[0m,\n",
       "    \u001b[32m\"total\"\u001b[0m: \u001b[32m\"201.91 sqm\"\u001b[0m\n",
       "  \u001b[1m}\u001b[0m,\n",
       "  \u001b[32m\"drawing_info\"\u001b[0m: \u001b[1m{\u001b[0m\n",
       "    \u001b[32m\"print_date\"\u001b[0m: \u001b[32m\"April 2015\"\u001b[0m,\n",
       "    \u001b[32m\"drawing_no\"\u001b[0m: \u001b[32m\"5 of 12\"\u001b[0m,\n",
       "    \u001b[32m\"design_name\"\u001b[0m: \u001b[32m\"Outrigger 201\"\u001b[0m,\n",
       "    \u001b[32m\"scale\"\u001b[0m: \u001b[32m\"1:100 \u001b[0m\u001b[32m(\u001b[0m\u001b[32mA3\u001b[0m\u001b[32m)\u001b[0m\u001b[32m\"\u001b[0m,\n",
       "    \u001b[32m\"drawn_by\"\u001b[0m: \u001b[32m\"NB\"\u001b[0m,\n",
       "    \u001b[32m\"checked_by\"\u001b[0m: \u001b[32m\"MB\"\u001b[0m\n",
       "  \u001b[1m}\u001b[0m,\n",
       "  \u001b[32m\"plan_info\"\u001b[0m: \u001b[1m{\u001b[0m\n",
       "    \u001b[32m\"title\"\u001b[0m: \u001b[32m\"Floor Plan - Upper\"\u001b[0m,\n",
       "    \u001b[32m\"project\"\u001b[0m: \u001b[32m\"Outrigger 201\"\u001b[0m,\n",
       "    \u001b[32m\"drawing_type\"\u001b[0m: \u001b[32m\"Working Drawings\"\u001b[0m\n",
       "  \u001b[1m}\u001b[0m\n",
       "\u001b[1m}\u001b[0m\n",
       "```\n"
      ]
     },
     "metadata": {},
     "output_type": "display_data"
    }
   ],
   "source": [
    "talk_to_page_4(\"Extract all data from image, and place into JSON\")"
   ]
  },
  {
   "cell_type": "code",
   "execution_count": null,
   "metadata": {},
   "outputs": [],
   "source": []
  }
 ],
 "metadata": {
  "kernelspec": {
   "display_name": "image-processing-pipeline-poc-dCvPs5FM-py3.12",
   "language": "python",
   "name": "python3"
  },
  "language_info": {
   "codemirror_mode": {
    "name": "ipython",
    "version": 3
   },
   "file_extension": ".py",
   "mimetype": "text/x-python",
   "name": "python",
   "nbconvert_exporter": "python",
   "pygments_lexer": "ipython3",
   "version": "3.12.5"
  }
 },
 "nbformat": 4,
 "nbformat_minor": 2
}
